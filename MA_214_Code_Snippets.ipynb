{
  "nbformat": 4,
  "nbformat_minor": 0,
  "metadata": {
    "colab": {
      "name": "MA 214 Code Snippets",
      "provenance": [],
      "collapsed_sections": [],
      "authorship_tag": "ABX9TyNg7Shx1jPN9F/81ohbT5+V",
      "include_colab_link": true
    },
    "kernelspec": {
      "name": "python3",
      "display_name": "Python 3"
    },
    "accelerator": "GPU"
  },
  "cells": [
    {
      "cell_type": "markdown",
      "metadata": {
        "id": "view-in-github",
        "colab_type": "text"
      },
      "source": [
        "<a href=\"https://colab.research.google.com/github/iyengaraditya/iyengaraditya.github.io/blob/master/MA_214_Code_Snippets.ipynb\" target=\"_parent\"><img src=\"https://colab.research.google.com/assets/colab-badge.svg\" alt=\"Open In Colab\"/></a>"
      ]
    },
    {
      "cell_type": "markdown",
      "metadata": {
        "id": "I3Lq48ZVzuB-",
        "colab_type": "text"
      },
      "source": [
        "[RUNGE KUTTA METHODS](https://en.wikipedia.org/wiki/Runge%E2%80%93Kutta_methods)\n",
        "\n",
        "Solving Initial Value Problems in a Closed Interval"
      ]
    },
    {
      "cell_type": "code",
      "metadata": {
        "id": "MHacYUTizzbJ",
        "colab_type": "code",
        "colab": {}
      },
      "source": [
        "def funct(x, y):\n",
        "  #define function here where y' = f(x, y), y(x0) = y0\n",
        "  return 1"
      ],
      "execution_count": 0,
      "outputs": []
    },
    {
      "cell_type": "code",
      "metadata": {
        "id": "l59oGIAkzBoU",
        "colab_type": "code",
        "colab": {}
      },
      "source": [
        "import numpy as np\n",
        "def exact_soln(x):\n",
        "  #define exact solution here if required, not needed by default\n",
        "  return ((x+1)*(x+1) - 0.5*np.exp(x))"
      ],
      "execution_count": 0,
      "outputs": []
    },
    {
      "cell_type": "code",
      "metadata": {
        "id": "WEW42--axZ00",
        "colab_type": "code",
        "colab": {}
      },
      "source": [
        "#RUNGE KUTTA ORDER 4\n",
        "import numpy as np\n",
        "#enter initial conditions here\n",
        "#the ivp is of the type y' = f(x, y), y(x0) = y0\n",
        "#solution is sought in the interval [x0, xn]\n",
        "#number of steps is N\n",
        "y0 = 4\n",
        "x0 = 2\n",
        "xn = 4\n",
        "N = 100\n",
        "y_precision = 6\n",
        "x_precision = 2\n",
        "#end of initial conditions\n",
        "x = x0\n",
        "i = 0\n",
        "y = y0\n",
        "f = 0\n",
        "h = (xn - x0)/N\n",
        "k1 = 0\n",
        "k2 = 0\n",
        "k3 = 0\n",
        "k4 = 0\n",
        "print(\"x_n\" + \"\\t\" + \"RK-4 Approximation\")\n",
        "print(str(round(x0, x_precision)) + \"\\t\" + str(round(y0, y_precision)))\n",
        "for i in range(1, N+1):\n",
        "  #y_exact = round(exact_soln(x+h), y_precision)\n",
        "  k1 = h*funct(x, y)\n",
        "  k2 = h*funct(x+(h/2), y+(k1/2))\n",
        "  k3 = h*funct(x+(h/2), y + (k2/2))\n",
        "  k4 = h*funct(x+h, y+k3)\n",
        "  y = round(y + ((k1 + (2*k2) + (2*k3) + k4))/6, y_precision)\n",
        "  x = round(x + h, x_precision)\n",
        "  #error = (np.abs(y-y_exact))*100/y_exact\n",
        "  #print(str(y_exact) + \" \" + str(y) + \" \" + str(error))\n",
        "  print(str(x) + \"\\t\" + str(y))"
      ],
      "execution_count": 0,
      "outputs": []
    },
    {
      "cell_type": "code",
      "metadata": {
        "id": "IaVc-p-sA1hG",
        "colab_type": "code",
        "colab": {}
      },
      "source": [
        "#RUNGE KUTTA ORDER 2\n",
        "import numpy as np\n",
        "#enter initial conditions here\n",
        "#the ivp is of the type y' = f(x, y), y(x0) = y0\n",
        "#solution is sought in the interval [x0, xn]\n",
        "#number of steps is N\n",
        "y0 = 4\n",
        "x0 = 2\n",
        "xn = 4\n",
        "N = 100\n",
        "y_precision = 6\n",
        "x_precision = 2\n",
        "#end of initial conditions\n",
        "x = x0\n",
        "i = 0\n",
        "y = y0\n",
        "f = 0\n",
        "h = (xn - x0)/N\n",
        "k1 = 0\n",
        "k2 = 0\n",
        "print(\"x_n\" + \"\\t\" + \"RK-4 Approximation\")\n",
        "print(str(round(x0, x_precision)) + \"\\t\" + str(round(y0, y_precision)))\n",
        "for i in range(1, N+1):\n",
        "  #y_exact = round(exact_soln(x+h), y_precision)\n",
        "  k1 = h*funct(x, y)\n",
        "  k2 = h*funct(x+h, y+k1)\n",
        "  y = round(y + (k1 + k2)/2, y_precision)\n",
        "  x = round(x + h, x_precision)\n",
        "  #error = (np.abs(y-y_exact))*100/y_exact\n",
        "  #print(str(y_exact) + \" \" + str(y) + \" \" + str(error))\n",
        "  print(str(x) + \"\\t\" + str(y))\n",
        "  "
      ],
      "execution_count": 0,
      "outputs": []
    }
  ]
}